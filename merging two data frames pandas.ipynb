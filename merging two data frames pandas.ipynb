{
 "cells": [
  {
   "cell_type": "code",
   "execution_count": 8,
   "metadata": {},
   "outputs": [
    {
     "name": "stdout",
     "output_type": "stream",
     "text": [
      "   pid   pname  pprice\n",
      "0  101  reebok    1000\n",
      "1  102    puma    2000\n",
      "2  103  adidas    3000\n",
      "3  104   guess    5000\n"
     ]
    }
   ],
   "source": [
    "import pandas as pd\n",
    "d1={'pid':[101,102,103,104],'pname':['reebok','puma','adidas','guess'],\n",
    "    'pprice':[1000,2000,3000,5000]}\n",
    "df_left=pd.DataFrame(d1)\n",
    "print(df_left)"
   ]
  },
  {
   "cell_type": "code",
   "execution_count": 9,
   "metadata": {},
   "outputs": [
    {
     "name": "stdout",
     "output_type": "stream",
     "text": [
      "   pid  pcolor    psloc  pprice\n",
      "0  101     red    delhi    1000\n",
      "1  102   green    noida    2000\n",
      "2  104    blue     agra    4000\n",
      "3  103  yellow   rohtak    5000\n",
      "4  105    pink  gurgaon    6000\n"
     ]
    }
   ],
   "source": [
    "d2={'pid':[101,102,104,103,105],'pcolor':['red','green','blue','yellow','pink'],\n",
    "     'psloc':['delhi','noida','agra','rohtak','gurgaon'],\n",
    "    'pprice':[1000,2000,4000,5000,6000]\n",
    "   }\n",
    "df_right=pd.DataFrame(d2)"
   ]
  },
  {
   "cell_type": "markdown",
   "metadata": {},
   "source": [
    "for methods to merge dataframe\n",
    "1)inner\n",
    "2)outer\n",
    "3)left\n",
    "4)right\n",
    "\n",
    "\n",
    "\n",
    "\n",
    "<b> 'how=inner' inner merge it merge Data frame on the basis of set intersect theory </b>"
   ]
  },
  {
   "cell_type": "markdown",
   "metadata": {},
   "source": [
    "press tap to see syntax hints"
   ]
  },
  {
   "cell_type": "code",
   "execution_count": 12,
   "metadata": {},
   "outputs": [
    {
     "name": "stdout",
     "output_type": "stream",
     "text": [
      "   pid   pname  pprice_x  pcolor   psloc  pprice_y\n",
      "0  101  reebok      1000     red   delhi      1000\n",
      "1  102    puma      2000   green   noida      2000\n",
      "2  103  adidas      3000  yellow  rohtak      5000\n",
      "3  104   guess      5000    blue    agra      4000\n"
     ]
    }
   ],
   "source": [
    "df_imerge=pd.merge(df_left,df_right,how='inner',on=['pid']) #syntax; variable=pd.merge(DF1,DF2,how='method', on=['column1']) column1 is column which must be present in both dataframe,its a column from which merging based on\n",
    "print(df_imerge)"
   ]
  },
  {
   "cell_type": "code",
   "execution_count": 13,
   "metadata": {},
   "outputs": [
    {
     "name": "stdout",
     "output_type": "stream",
     "text": [
      "   pid   pname  pprice pcolor  psloc\n",
      "0  101  reebok    1000    red  delhi\n",
      "1  102    puma    2000  green  noida\n"
     ]
    }
   ],
   "source": [
    "df_imerge1=pd.merge(df_left,df_right,how='inner',on=['pid','pprice'])\n",
    "print(df_imerge1)"
   ]
  },
  {
   "cell_type": "markdown",
   "metadata": {},
   "source": [
    "<b> 'how=outher' outer merge merge data frame on the basis os 'set union theory' </b>"
   ]
  },
  {
   "cell_type": "code",
   "execution_count": 14,
   "metadata": {},
   "outputs": [
    {
     "name": "stdout",
     "output_type": "stream",
     "text": [
      "   pid   pname  pprice_x  pcolor    psloc  pprice_y\n",
      "0  101  reebok    1000.0     red    delhi      1000\n",
      "1  102    puma    2000.0   green    noida      2000\n",
      "2  103  adidas    3000.0  yellow   rohtak      5000\n",
      "3  104   guess    5000.0    blue     agra      4000\n",
      "4  105     NaN       NaN    pink  gurgaon      6000\n"
     ]
    }
   ],
   "source": [
    "df_omerge=pd.merge(df_left,df_right,how='outer',on=['pid'])\n",
    "print(df_omerge)"
   ]
  },
  {
   "cell_type": "code",
   "execution_count": 15,
   "metadata": {},
   "outputs": [
    {
     "name": "stdout",
     "output_type": "stream",
     "text": [
      "   pid   pname  pprice  pcolor    psloc\n",
      "0  101  reebok    1000     red    delhi\n",
      "1  102    puma    2000   green    noida\n",
      "2  103  adidas    3000     NaN      NaN\n",
      "3  104   guess    5000     NaN      NaN\n",
      "4  104     NaN    4000    blue     agra\n",
      "5  103     NaN    5000  yellow   rohtak\n",
      "6  105     NaN    6000    pink  gurgaon\n"
     ]
    }
   ],
   "source": [
    "df_omerge1=pd.merge(df_left,df_right,how='outer',on=['pid','pprice'])\n",
    "print(df_omerge1)"
   ]
  },
  {
   "cell_type": "code",
   "execution_count": 17,
   "metadata": {},
   "outputs": [
    {
     "data": {
      "text/html": [
       "<div>\n",
       "<style scoped>\n",
       "    .dataframe tbody tr th:only-of-type {\n",
       "        vertical-align: middle;\n",
       "    }\n",
       "\n",
       "    .dataframe tbody tr th {\n",
       "        vertical-align: top;\n",
       "    }\n",
       "\n",
       "    .dataframe thead th {\n",
       "        text-align: right;\n",
       "    }\n",
       "</style>\n",
       "<table border=\"1\" class=\"dataframe\">\n",
       "  <thead>\n",
       "    <tr style=\"text-align: right;\">\n",
       "      <th></th>\n",
       "      <th>pid</th>\n",
       "      <th>pname</th>\n",
       "      <th>pprice</th>\n",
       "      <th>pcolor</th>\n",
       "      <th>psloc</th>\n",
       "    </tr>\n",
       "  </thead>\n",
       "  <tbody>\n",
       "    <tr>\n",
       "      <th>0</th>\n",
       "      <td>101</td>\n",
       "      <td>reebok</td>\n",
       "      <td>1000</td>\n",
       "      <td>red</td>\n",
       "      <td>delhi</td>\n",
       "    </tr>\n",
       "    <tr>\n",
       "      <th>1</th>\n",
       "      <td>102</td>\n",
       "      <td>puma</td>\n",
       "      <td>2000</td>\n",
       "      <td>green</td>\n",
       "      <td>noida</td>\n",
       "    </tr>\n",
       "  </tbody>\n",
       "</table>\n",
       "</div>"
      ],
      "text/plain": [
       "   pid   pname  pprice pcolor  psloc\n",
       "0  101  reebok    1000    red  delhi\n",
       "1  102    puma    2000  green  noida"
      ]
     },
     "execution_count": 17,
     "metadata": {},
     "output_type": "execute_result"
    }
   ],
   "source": [
    "df_omerge1.dropna()\n"
   ]
  },
  {
   "cell_type": "markdown",
   "metadata": {},
   "source": [
    "<b>'how=left' merge data according to left dataframe that means it picks data from left dataframe then find values for the same in right dataframe</b>"
   ]
  },
  {
   "cell_type": "code",
   "execution_count": 21,
   "metadata": {},
   "outputs": [
    {
     "name": "stdout",
     "output_type": "stream",
     "text": [
      "   pid_x   pname  pprice  pid_y  pcolor   psloc\n",
      "0    101  reebok    1000  101.0     red   delhi\n",
      "1    102    puma    2000  102.0   green   noida\n",
      "2    103  adidas    3000    NaN     NaN     NaN\n",
      "3    104   guess    5000  103.0  yellow  rohtak\n"
     ]
    }
   ],
   "source": [
    "df_lmerge=pd.merge(df_left,df_right,how='left',on=['pprice'])\n",
    "print(df_lmerge)"
   ]
  },
  {
   "cell_type": "markdown",
   "metadata": {},
   "source": [
    "<b>'how=right' merge data according to right dataframe that means it picks data from right dataframe then find values for the same in left dataframe</b>"
   ]
  },
  {
   "cell_type": "code",
   "execution_count": 26,
   "metadata": {},
   "outputs": [
    {
     "name": "stdout",
     "output_type": "stream",
     "text": [
      "   pid   pname  pprice  pcolor    psloc\n",
      "0  101  reebok    1000     red    delhi\n",
      "1  102    puma    2000   green    noida\n",
      "2  104     NaN    4000    blue     agra\n",
      "3  103     NaN    5000  yellow   rohtak\n",
      "4  105     NaN    6000    pink  gurgaon\n"
     ]
    }
   ],
   "source": [
    "df_rmerge=pd.merge(df_left,df_right,how='right',on=['pid','pprice'])\n",
    "print(df_rmerge)"
   ]
  },
  {
   "cell_type": "code",
   "execution_count": 23,
   "metadata": {},
   "outputs": [
    {
     "data": {
      "text/html": [
       "<div>\n",
       "<style scoped>\n",
       "    .dataframe tbody tr th:only-of-type {\n",
       "        vertical-align: middle;\n",
       "    }\n",
       "\n",
       "    .dataframe tbody tr th {\n",
       "        vertical-align: top;\n",
       "    }\n",
       "\n",
       "    .dataframe thead th {\n",
       "        text-align: right;\n",
       "    }\n",
       "</style>\n",
       "<table border=\"1\" class=\"dataframe\">\n",
       "  <thead>\n",
       "    <tr style=\"text-align: right;\">\n",
       "      <th></th>\n",
       "      <th>pid</th>\n",
       "      <th>pname</th>\n",
       "      <th>pprice</th>\n",
       "    </tr>\n",
       "  </thead>\n",
       "  <tbody>\n",
       "    <tr>\n",
       "      <th>0</th>\n",
       "      <td>101</td>\n",
       "      <td>reebok</td>\n",
       "      <td>1000</td>\n",
       "    </tr>\n",
       "    <tr>\n",
       "      <th>1</th>\n",
       "      <td>102</td>\n",
       "      <td>puma</td>\n",
       "      <td>2000</td>\n",
       "    </tr>\n",
       "    <tr>\n",
       "      <th>2</th>\n",
       "      <td>103</td>\n",
       "      <td>adidas</td>\n",
       "      <td>3000</td>\n",
       "    </tr>\n",
       "    <tr>\n",
       "      <th>3</th>\n",
       "      <td>104</td>\n",
       "      <td>guess</td>\n",
       "      <td>5000</td>\n",
       "    </tr>\n",
       "  </tbody>\n",
       "</table>\n",
       "</div>"
      ],
      "text/plain": [
       "   pid   pname  pprice\n",
       "0  101  reebok    1000\n",
       "1  102    puma    2000\n",
       "2  103  adidas    3000\n",
       "3  104   guess    5000"
      ]
     },
     "execution_count": 23,
     "metadata": {},
     "output_type": "execute_result"
    }
   ],
   "source": [
    "df_left"
   ]
  },
  {
   "cell_type": "code",
   "execution_count": 24,
   "metadata": {},
   "outputs": [
    {
     "data": {
      "text/html": [
       "<div>\n",
       "<style scoped>\n",
       "    .dataframe tbody tr th:only-of-type {\n",
       "        vertical-align: middle;\n",
       "    }\n",
       "\n",
       "    .dataframe tbody tr th {\n",
       "        vertical-align: top;\n",
       "    }\n",
       "\n",
       "    .dataframe thead th {\n",
       "        text-align: right;\n",
       "    }\n",
       "</style>\n",
       "<table border=\"1\" class=\"dataframe\">\n",
       "  <thead>\n",
       "    <tr style=\"text-align: right;\">\n",
       "      <th></th>\n",
       "      <th>pid</th>\n",
       "      <th>pcolor</th>\n",
       "      <th>psloc</th>\n",
       "      <th>pprice</th>\n",
       "    </tr>\n",
       "  </thead>\n",
       "  <tbody>\n",
       "    <tr>\n",
       "      <th>0</th>\n",
       "      <td>101</td>\n",
       "      <td>red</td>\n",
       "      <td>delhi</td>\n",
       "      <td>1000</td>\n",
       "    </tr>\n",
       "    <tr>\n",
       "      <th>1</th>\n",
       "      <td>102</td>\n",
       "      <td>green</td>\n",
       "      <td>noida</td>\n",
       "      <td>2000</td>\n",
       "    </tr>\n",
       "    <tr>\n",
       "      <th>2</th>\n",
       "      <td>104</td>\n",
       "      <td>blue</td>\n",
       "      <td>agra</td>\n",
       "      <td>4000</td>\n",
       "    </tr>\n",
       "    <tr>\n",
       "      <th>3</th>\n",
       "      <td>103</td>\n",
       "      <td>yellow</td>\n",
       "      <td>rohtak</td>\n",
       "      <td>5000</td>\n",
       "    </tr>\n",
       "    <tr>\n",
       "      <th>4</th>\n",
       "      <td>105</td>\n",
       "      <td>pink</td>\n",
       "      <td>gurgaon</td>\n",
       "      <td>6000</td>\n",
       "    </tr>\n",
       "  </tbody>\n",
       "</table>\n",
       "</div>"
      ],
      "text/plain": [
       "   pid  pcolor    psloc  pprice\n",
       "0  101     red    delhi    1000\n",
       "1  102   green    noida    2000\n",
       "2  104    blue     agra    4000\n",
       "3  103  yellow   rohtak    5000\n",
       "4  105    pink  gurgaon    6000"
      ]
     },
     "execution_count": 24,
     "metadata": {},
     "output_type": "execute_result"
    }
   ],
   "source": [
    "df_right"
   ]
  },
  {
   "cell_type": "code",
   "execution_count": null,
   "metadata": {},
   "outputs": [],
   "source": []
  }
 ],
 "metadata": {
  "kernelspec": {
   "display_name": "Python 3",
   "language": "python",
   "name": "python3"
  },
  "language_info": {
   "codemirror_mode": {
    "name": "ipython",
    "version": 3
   },
   "file_extension": ".py",
   "mimetype": "text/x-python",
   "name": "python",
   "nbconvert_exporter": "python",
   "pygments_lexer": "ipython3",
   "version": "3.7.3"
  }
 },
 "nbformat": 4,
 "nbformat_minor": 4
}
