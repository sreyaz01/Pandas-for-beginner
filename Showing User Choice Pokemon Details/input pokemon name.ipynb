{
 "cells": [
  {
   "cell_type": "markdown",
   "metadata": {},
   "source": [
    "<b> Problem Statement : Take a Pokemon Name from user and find it in Pokemon.CSV and show user Result about that pokemon attacks and all </b>"
   ]
  },
  {
   "cell_type": "code",
   "execution_count": 1,
   "metadata": {},
   "outputs": [
    {
     "name": "stdout",
     "output_type": "stream",
     "text": [
      "**Find Details of Pokemon**\n"
     ]
    },
    {
     "name": "stdin",
     "output_type": "stream",
     "text": [
      "Hey ! There What is Your Name  Raju\n"
     ]
    },
    {
     "name": "stdout",
     "output_type": "stream",
     "text": [
      "Hi Raju\n"
     ]
    },
    {
     "name": "stdin",
     "output_type": "stream",
     "text": [
      "Enter The Name Of Pokemon =  pikachu\n"
     ]
    },
    {
     "name": "stdout",
     "output_type": "stream",
     "text": [
      "Here is the detail for pikachu\n",
      "     #     Name     Type1 Type 2  Total  HP  Attack  Defense  Sp. Atk  \\\n",
      "30  25  Pikachu  Electric    NaN    320  35      55       40       50   \n",
      "\n",
      "    Sp. Def  Speed  Generation  Legendary  \n",
      "30       50     90           1      False  \n"
     ]
    }
   ],
   "source": [
    "import pandas as pd\n",
    "print('**Find Details of Pokemon**')\n",
    "\n",
    "#user intraction\n",
    "usr_name=(input('Hey ! There What is Your Name '))\n",
    "usr_title=usr_name.title()\n",
    "print('Hi', usr_title )\n",
    "\n",
    "#taking pokemon name from user\n",
    "pokemon_name=input('Enter The Name Of Pokemon = ')\n",
    "pokemon=pokemon_name.title()\n",
    "\n",
    "#reading Dataframe\n",
    "df=pd.read_csv(\"C:\\\\Users\\\\SYED\\\\Desktop\\\\Aedifico\\\\24-10-2019\\\\CSV Files\\\\Pokemon.csv\")\n",
    "\n",
    "\n",
    "#counting how many times i have to run the loop to acess every row\n",
    "row_count=df['Name'].count() # to run a loop\n",
    "\n",
    "\n",
    "count=0 #to access and increment in rows value\n",
    "\n",
    "for i in range(row_count):\n",
    "    pokemon_row=df['Name'][count]\n",
    "    if pokemon==pokemon_row:\n",
    "        break\n",
    "    else:\n",
    "        count+=1\n",
    "        \n",
    "search=df.loc[df['Name']==pokemon]\n",
    "    \n",
    "if pokemon==pokemon_row:\n",
    "    print('Here is the detail for' , pokemon_name)\n",
    "    print(search)\n",
    "else:\n",
    "    print('Search not found!')\n"
   ]
  },
  {
   "cell_type": "code",
   "execution_count": null,
   "metadata": {},
   "outputs": [],
   "source": []
  }
 ],
 "metadata": {
  "kernelspec": {
   "display_name": "Python 3",
   "language": "python",
   "name": "python3"
  },
  "language_info": {
   "codemirror_mode": {
    "name": "ipython",
    "version": 3
   },
   "file_extension": ".py",
   "mimetype": "text/x-python",
   "name": "python",
   "nbconvert_exporter": "python",
   "pygments_lexer": "ipython3",
   "version": "3.7.3"
  }
 },
 "nbformat": 4,
 "nbformat_minor": 4
}
