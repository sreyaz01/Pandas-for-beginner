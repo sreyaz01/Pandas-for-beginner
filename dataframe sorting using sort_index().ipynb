{
 "cells": [
  {
   "cell_type": "code",
   "execution_count": 1,
   "metadata": {},
   "outputs": [],
   "source": [
    "import pandas as pd"
   ]
  },
  {
   "cell_type": "code",
   "execution_count": 2,
   "metadata": {},
   "outputs": [],
   "source": [
    "dict={'Language':['hindi','english','urdu','french'],'Subject':['Physics','Maths','Chemistry','Bio'],'Fruits':['mango','guava','litchi','grapes'],\n",
    "      'Vegitables':['potato','brinjal','tomato','beans']}"
   ]
  },
  {
   "cell_type": "code",
   "execution_count": 3,
   "metadata": {},
   "outputs": [],
   "source": [
    "df=pd.DataFrame(dict,index=[101,110,105,102]) #passing indexes manually"
   ]
  },
  {
   "cell_type": "code",
   "execution_count": 4,
   "metadata": {},
   "outputs": [
    {
     "data": {
      "text/html": [
       "<div>\n",
       "<style scoped>\n",
       "    .dataframe tbody tr th:only-of-type {\n",
       "        vertical-align: middle;\n",
       "    }\n",
       "\n",
       "    .dataframe tbody tr th {\n",
       "        vertical-align: top;\n",
       "    }\n",
       "\n",
       "    .dataframe thead th {\n",
       "        text-align: right;\n",
       "    }\n",
       "</style>\n",
       "<table border=\"1\" class=\"dataframe\">\n",
       "  <thead>\n",
       "    <tr style=\"text-align: right;\">\n",
       "      <th></th>\n",
       "      <th>Language</th>\n",
       "      <th>Subject</th>\n",
       "      <th>Fruits</th>\n",
       "      <th>Vegitables</th>\n",
       "    </tr>\n",
       "  </thead>\n",
       "  <tbody>\n",
       "    <tr>\n",
       "      <th>101</th>\n",
       "      <td>hindi</td>\n",
       "      <td>Physics</td>\n",
       "      <td>mango</td>\n",
       "      <td>potato</td>\n",
       "    </tr>\n",
       "    <tr>\n",
       "      <th>110</th>\n",
       "      <td>english</td>\n",
       "      <td>Maths</td>\n",
       "      <td>guava</td>\n",
       "      <td>brinjal</td>\n",
       "    </tr>\n",
       "    <tr>\n",
       "      <th>105</th>\n",
       "      <td>urdu</td>\n",
       "      <td>Chemistry</td>\n",
       "      <td>litchi</td>\n",
       "      <td>tomato</td>\n",
       "    </tr>\n",
       "    <tr>\n",
       "      <th>102</th>\n",
       "      <td>french</td>\n",
       "      <td>Bio</td>\n",
       "      <td>grapes</td>\n",
       "      <td>beans</td>\n",
       "    </tr>\n",
       "  </tbody>\n",
       "</table>\n",
       "</div>"
      ],
      "text/plain": [
       "    Language    Subject  Fruits Vegitables\n",
       "101    hindi    Physics   mango     potato\n",
       "110  english      Maths   guava    brinjal\n",
       "105     urdu  Chemistry  litchi     tomato\n",
       "102   french        Bio  grapes      beans"
      ]
     },
     "execution_count": 4,
     "metadata": {},
     "output_type": "execute_result"
    }
   ],
   "source": [
    "df"
   ]
  },
  {
   "cell_type": "code",
   "execution_count": 5,
   "metadata": {},
   "outputs": [
    {
     "name": "stdout",
     "output_type": "stream",
     "text": [
      "    Language    Subject  Fruits Vegitables\n",
      "101    hindi    Physics   mango     potato\n",
      "102   french        Bio  grapes      beans\n",
      "105     urdu  Chemistry  litchi     tomato\n",
      "110  english      Maths   guava    brinjal\n"
     ]
    }
   ],
   "source": [
    "df_isort=df.sort_index() #sorting on basis of indexex syntax: DataFrame_Name.sort_index()\n",
    "print(df_isort)"
   ]
  },
  {
   "cell_type": "code",
   "execution_count": 6,
   "metadata": {},
   "outputs": [
    {
     "name": "stdout",
     "output_type": "stream",
     "text": [
      "    Vegitables    Subject Language  Fruits\n",
      "101     potato    Physics    hindi   mango\n",
      "110    brinjal      Maths  english   guava\n",
      "105     tomato  Chemistry     urdu  litchi\n",
      "102      beans        Bio   french  grapes\n"
     ]
    }
   ],
   "source": [
    "df_icsort=df.sort_index(axis=1,ascending=False) #sorting on columns basis of indexex syntax: DataFrame_Name.sort_index(axis=1), axis=1 is for column axis=0 for rows\n",
    "print(df_icsort)"
   ]
  },
  {
   "cell_type": "code",
   "execution_count": null,
   "metadata": {},
   "outputs": [],
   "source": []
  }
 ],
 "metadata": {
  "kernelspec": {
   "display_name": "Python 3",
   "language": "python",
   "name": "python3"
  },
  "language_info": {
   "codemirror_mode": {
    "name": "ipython",
    "version": 3
   },
   "file_extension": ".py",
   "mimetype": "text/x-python",
   "name": "python",
   "nbconvert_exporter": "python",
   "pygments_lexer": "ipython3",
   "version": "3.7.3"
  }
 },
 "nbformat": 4,
 "nbformat_minor": 4
}
