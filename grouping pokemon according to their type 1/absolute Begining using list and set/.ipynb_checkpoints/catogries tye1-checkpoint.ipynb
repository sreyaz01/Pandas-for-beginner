{
 "cells": [
  {
   "cell_type": "code",
   "execution_count": 15,
   "metadata": {},
   "outputs": [
    {
     "name": "stdout",
     "output_type": "stream",
     "text": [
      "**Grouping of pokemons on the basis of their type 1**\n",
      "{'Rock', 'Fire', 'Ground', 'Normal', 'Steel', 'Fighting', 'Poison', 'Ice', 'Flying', 'Ghost', 'Water', 'Psychic', 'Dark', 'Grass', 'Dragon', 'Fairy', 'Bug', 'Electric'}\n"
     ]
    }
   ],
   "source": [
    "import pandas as pd\n",
    "print('**Grouping of pokemons on the basis of their type 1**')\n",
    "df=pd.read_csv(\"C:\\\\Users\\\\SYED\\\\Desktop\\\\Aedifico\\\\24-10-2019\\\\CSV Files\\\\Pokemon.csv\")\n",
    "\n",
    "a=df.Type1\n",
    "Set_convert=set(a) #set don't support duplicacy\n",
    "print(Set_convert)\n"
   ]
  },
  {
   "cell_type": "code",
   "execution_count": 14,
   "metadata": {},
   "outputs": [
    {
     "name": "stdout",
     "output_type": "stream",
     "text": [
      "['Rock', 'Fire', 'Ground', 'Normal', 'Steel', 'Fighting', 'Poison', 'Ice', 'Flying', 'Ghost', 'Water', 'Psychic', 'Dark', 'Grass', 'Dragon', 'Fairy', 'Bug', 'Electric']\n"
     ]
    }
   ],
   "source": [
    "list_convert=list(Set_convert)\n",
    "print(list_convert)\n"
   ]
  },
  {
   "cell_type": "code",
   "execution_count": 27,
   "metadata": {},
   "outputs": [
    {
     "name": "stdout",
     "output_type": "stream",
     "text": [
      "0\n",
      "1\n",
      "2\n",
      "3\n",
      "4\n",
      "5\n",
      "6\n",
      "7\n",
      "8\n",
      "9\n",
      "10\n",
      "11\n",
      "12\n",
      "13\n",
      "14\n",
      "15\n",
      "16\n",
      "17\n",
      "       #                      Name     Type1  Type 2  Total  HP  Attack  \\\n",
      "30    25                   Pikachu  Electric     NaN    320  35      55   \n",
      "31    26                    Raichu  Electric     NaN    485  60      90   \n",
      "88    81                 Magnemite  Electric   Steel    325  25      35   \n",
      "89    82                  Magneton  Electric   Steel    465  50      60   \n",
      "108  100                   Voltorb  Electric     NaN    330  40      30   \n",
      "109  101                 Electrode  Electric     NaN    480  60      50   \n",
      "134  125                Electabuzz  Electric     NaN    490  65      83   \n",
      "146  135                   Jolteon  Electric     NaN    525  65      65   \n",
      "157  145                    Zapdos  Electric  Flying    580  90      90   \n",
      "186  172                     Pichu  Electric     NaN    205  20      40   \n",
      "193  179                    Mareep  Electric     NaN    280  55      40   \n",
      "194  180                   Flaaffy  Electric     NaN    365  70      55   \n",
      "195  181                  Ampharos  Electric     NaN    510  90      75   \n",
      "196  181     AmpharosMega Ampharos  Electric  Dragon    610  90      95   \n",
      "258  239                    Elekid  Electric     NaN    360  45      63   \n",
      "262  243                    Raikou  Electric     NaN    580  90      85   \n",
      "337  309                 Electrike  Electric     NaN    295  40      45   \n",
      "338  310                 Manectric  Electric     NaN    475  70      75   \n",
      "339  310   ManectricMega Manectric  Electric     NaN    575  70      75   \n",
      "340  311                    Plusle  Electric     NaN    405  60      50   \n",
      "341  312                     Minun  Electric     NaN    405  60      40   \n",
      "448  403                     Shinx  Electric     NaN    263  45      65   \n",
      "449  404                     Luxio  Electric     NaN    363  60      85   \n",
      "450  405                    Luxray  Electric     NaN    523  80     120   \n",
      "464  417                 Pachirisu  Electric     NaN    405  60      45   \n",
      "513  462                 Magnezone  Electric   Steel    535  70      70   \n",
      "517  466                Electivire  Electric     NaN    540  75     123   \n",
      "531  479                     Rotom  Electric   Ghost    440  50      50   \n",
      "532  479           RotomHeat Rotom  Electric    Fire    520  50      65   \n",
      "533  479           RotomWash Rotom  Electric   Water    520  50      65   \n",
      "534  479          RotomFrost Rotom  Electric     Ice    520  50      65   \n",
      "535  479            RotomFan Rotom  Electric  Flying    520  50      65   \n",
      "536  479            RotomMow Rotom  Electric   Grass    520  50      65   \n",
      "581  522                   Blitzle  Electric     NaN    295  45      60   \n",
      "582  523                 Zebstrika  Electric     NaN    497  75     100   \n",
      "648  587                    Emolga  Electric  Flying    428  55      75   \n",
      "663  602                    Tynamo  Electric     NaN    275  35      55   \n",
      "664  603                 Eelektrik  Electric     NaN    405  65      85   \n",
      "665  604                Eelektross  Electric     NaN    515  85     115   \n",
      "704  642  ThundurusIncarnate Forme  Electric  Flying    580  79     115   \n",
      "705  642    ThundurusTherian Forme  Electric  Flying    580  79     105   \n",
      "764  694                Helioptile  Electric  Normal    289  44      38   \n",
      "765  695                 Heliolisk  Electric  Normal    481  62      55   \n",
      "772  702                   Dedenne  Electric   Fairy    431  67      58   \n",
      "\n",
      "     Defense  Sp. Atk  Sp. Def  Speed  Generation  Legendary  \n",
      "30        40       50       50     90           1      False  \n",
      "31        55       90       80    110           1      False  \n",
      "88        70       95       55     45           1      False  \n",
      "89        95      120       70     70           1      False  \n",
      "108       50       55       55    100           1      False  \n",
      "109       70       80       80    140           1      False  \n",
      "134       57       95       85    105           1      False  \n",
      "146       60      110       95    130           1      False  \n",
      "157       85      125       90    100           1       True  \n",
      "186       15       35       35     60           2      False  \n",
      "193       40       65       45     35           2      False  \n",
      "194       55       80       60     45           2      False  \n",
      "195       85      115       90     55           2      False  \n",
      "196      105      165      110     45           2      False  \n",
      "258       37       65       55     95           2      False  \n",
      "262       75      115      100    115           2       True  \n",
      "337       40       65       40     65           3      False  \n",
      "338       60      105       60    105           3      False  \n",
      "339       80      135       80    135           3      False  \n",
      "340       40       85       75     95           3      False  \n",
      "341       50       75       85     95           3      False  \n",
      "448       34       40       34     45           4      False  \n",
      "449       49       60       49     60           4      False  \n",
      "450       79       95       79     70           4      False  \n",
      "464       70       45       90     95           4      False  \n",
      "513      115      130       90     60           4      False  \n",
      "517       67       95       85     95           4      False  \n",
      "531       77       95       77     91           4      False  \n",
      "532      107      105      107     86           4      False  \n",
      "533      107      105      107     86           4      False  \n",
      "534      107      105      107     86           4      False  \n",
      "535      107      105      107     86           4      False  \n",
      "536      107      105      107     86           4      False  \n",
      "581       32       50       32     76           5      False  \n",
      "582       63       80       63    116           5      False  \n",
      "648       60       75       60    103           5      False  \n",
      "663       40       45       40     60           5      False  \n",
      "664       70       75       70     40           5      False  \n",
      "665       80      105       80     50           5      False  \n",
      "704       70      125       80    111           5       True  \n",
      "705       70      145       80    101           5       True  \n",
      "764       33       61       43     70           6      False  \n",
      "765       52      109       94    109           6      False  \n",
      "772       57       81       67    101           6      False  \n"
     ]
    }
   ],
   "source": [
    "for i in range (list_convert):\n",
    "    print(i)\n",
    "    rock_type=df.loc[df[\"Type1\"]==list_convert[i]]\n",
    "print(rock_type)\n",
    "    "
   ]
  },
  {
   "cell_type": "code",
   "execution_count": null,
   "metadata": {},
   "outputs": [],
   "source": [
    "rock_type=df.loc[df[\"Type1\"]==\"Rock\"]"
   ]
  }
 ],
 "metadata": {
  "kernelspec": {
   "display_name": "Python 3",
   "language": "python",
   "name": "python3"
  },
  "language_info": {
   "codemirror_mode": {
    "name": "ipython",
    "version": 3
   },
   "file_extension": ".py",
   "mimetype": "text/x-python",
   "name": "python",
   "nbconvert_exporter": "python",
   "pygments_lexer": "ipython3",
   "version": "3.7.3"
  }
 },
 "nbformat": 4,
 "nbformat_minor": 4
}
